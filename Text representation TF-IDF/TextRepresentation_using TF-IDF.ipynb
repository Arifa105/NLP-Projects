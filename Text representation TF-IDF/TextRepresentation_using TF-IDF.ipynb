{
 "cells": [
  {
   "cell_type": "markdown",
   "id": "7b2c90e1",
   "metadata": {},
   "source": [
    "# TEXT Representation TD/IDF"
   ]
  },
  {
   "cell_type": "code",
   "execution_count": 15,
   "id": "172f33af",
   "metadata": {},
   "outputs": [],
   "source": [
    "from sklearn.feature_extraction.text import TfidfVectorizer\n",
    "\n",
    "corpus = [\"Babar Azam dropping from the Pakistan squad has seen Fakhar Zaman entangled in a dispute with the PCB\",\n",
    " \"the cricket board issuing him a show-cause notice for a social media post. After news of Babar's omission from Pakistan's squad for the second and third Test broke\",\n",
    "\"Fakhar took to X formerly Twitter before the PCB had officially announced the squad\",\n",
    "\"He described the development as concerning saying sidelining arguably the best batter Pakistan has ever produced risked sending a deeply negative message across the board\",\n",
    "\"He called on the PCB to safeguard players rather than undermining them\",\n",
    "\"The PCB has taken strong exception to the post, telling ESPNcricinfo the batter had been issued a show-cause notice for bringing the game in Pakistan into disrepute\", \n",
    "\"They have alleged that as a centrally contracted player, Fakhar had a responsibility not to make such comments against his employer in public\",\n",
    "\"They are understood to be disappointed Fakhar did not raise any complaints privately\"\n",
    "         ]"
   ]
  },
  {
   "cell_type": "code",
   "execution_count": 16,
   "id": "2e9f1442",
   "metadata": {},
   "outputs": [],
   "source": [
    "#let's create the vectorizer and fit the corpus and transform them accordingly\n",
    "v = TfidfVectorizer()\n",
    "v.fit(corpus)\n",
    "transform_output = v.transform(corpus)"
   ]
  },
  {
   "cell_type": "code",
   "execution_count": 17,
   "id": "b417a8c2",
   "metadata": {},
   "outputs": [
    {
     "name": "stdout",
     "output_type": "stream",
     "text": [
      "{'babar': 11, 'azam': 10, 'dropping': 35, 'from': 44, 'the': 95, 'pakistan': 67, 'squad': 87, 'has': 47, 'seen': 82, 'fakhar': 41, 'zaman': 105, 'entangled': 37, 'in': 52, 'dispute': 33, 'with': 104, 'pcb': 68, 'cricket': 27, 'board': 17, 'issuing': 55, 'him': 50, 'show': 84, 'cause': 21, 'notice': 62, 'for': 42, 'social': 86, 'media': 57, 'post': 71, 'after': 1, 'news': 60, 'of': 63, 'omission': 65, 'second': 81, 'and': 4, 'third': 98, 'test': 92, 'broke': 19, 'took': 100, 'to': 99, 'formerly': 43, 'twitter': 101, 'before': 15, 'had': 46, 'officially': 64, 'announced': 5, 'he': 49, 'described': 29, 'development': 30, 'as': 9, 'concerning': 25, 'saying': 80, 'sidelining': 85, 'arguably': 8, 'best': 16, 'batter': 12, 'ever': 39, 'produced': 73, 'risked': 78, 'sending': 83, 'deeply': 28, 'negative': 59, 'message': 58, 'across': 0, 'called': 20, 'on': 66, 'safeguard': 79, 'players': 70, 'rather': 76, 'than': 93, 'undermining': 102, 'them': 96, 'taken': 90, 'strong': 88, 'exception': 40, 'telling': 91, 'espncricinfo': 38, 'been': 14, 'issued': 54, 'bringing': 18, 'game': 45, 'into': 53, 'disrepute': 34, 'they': 97, 'have': 48, 'alleged': 3, 'that': 94, 'centrally': 22, 'contracted': 26, 'player': 69, 'responsibility': 77, 'not': 61, 'make': 56, 'such': 89, 'comments': 23, 'against': 2, 'his': 51, 'employer': 36, 'public': 74, 'are': 7, 'understood': 103, 'be': 13, 'disappointed': 32, 'did': 31, 'raise': 75, 'any': 6, 'complaints': 24, 'privately': 72}\n"
     ]
    }
   ],
   "source": [
    "#let's print the vocabulary\n",
    "\n",
    "print(v.vocabulary_)"
   ]
  },
  {
   "cell_type": "code",
   "execution_count": 18,
   "id": "86e932b6",
   "metadata": {},
   "outputs": [
    {
     "name": "stdout",
     "output_type": "stream",
     "text": [
      "across : 2.504077396776274\n",
      "after : 2.504077396776274\n",
      "against : 2.504077396776274\n",
      "alleged : 2.504077396776274\n",
      "and : 2.504077396776274\n",
      "announced : 2.504077396776274\n",
      "any : 2.504077396776274\n",
      "are : 2.504077396776274\n",
      "arguably : 2.504077396776274\n",
      "as : 2.09861228866811\n",
      "azam : 2.504077396776274\n",
      "babar : 2.09861228866811\n",
      "batter : 2.09861228866811\n",
      "be : 2.504077396776274\n",
      "been : 2.504077396776274\n",
      "before : 2.504077396776274\n",
      "best : 2.504077396776274\n",
      "board : 2.09861228866811\n",
      "bringing : 2.504077396776274\n",
      "broke : 2.504077396776274\n",
      "called : 2.504077396776274\n",
      "cause : 2.09861228866811\n",
      "centrally : 2.504077396776274\n",
      "comments : 2.504077396776274\n",
      "complaints : 2.504077396776274\n",
      "concerning : 2.504077396776274\n",
      "contracted : 2.504077396776274\n",
      "cricket : 2.504077396776274\n",
      "deeply : 2.504077396776274\n",
      "described : 2.504077396776274\n",
      "development : 2.504077396776274\n",
      "did : 2.504077396776274\n",
      "disappointed : 2.504077396776274\n",
      "dispute : 2.504077396776274\n",
      "disrepute : 2.504077396776274\n",
      "dropping : 2.504077396776274\n",
      "employer : 2.504077396776274\n",
      "entangled : 2.504077396776274\n",
      "espncricinfo : 2.504077396776274\n",
      "ever : 2.504077396776274\n",
      "exception : 2.504077396776274\n",
      "fakhar : 1.587786664902119\n",
      "for : 2.09861228866811\n",
      "formerly : 2.504077396776274\n",
      "from : 2.09861228866811\n",
      "game : 2.504077396776274\n",
      "had : 1.8109302162163288\n",
      "has : 1.8109302162163288\n",
      "have : 2.504077396776274\n",
      "he : 2.09861228866811\n",
      "him : 2.504077396776274\n",
      "his : 2.504077396776274\n",
      "in : 1.8109302162163288\n",
      "into : 2.504077396776274\n",
      "issued : 2.504077396776274\n",
      "issuing : 2.504077396776274\n",
      "make : 2.504077396776274\n",
      "media : 2.504077396776274\n",
      "message : 2.504077396776274\n",
      "negative : 2.504077396776274\n",
      "news : 2.504077396776274\n",
      "not : 2.09861228866811\n",
      "notice : 2.09861228866811\n",
      "of : 2.504077396776274\n",
      "officially : 2.504077396776274\n",
      "omission : 2.504077396776274\n",
      "on : 2.504077396776274\n",
      "pakistan : 1.587786664902119\n",
      "pcb : 1.587786664902119\n",
      "player : 2.504077396776274\n",
      "players : 2.504077396776274\n",
      "post : 2.09861228866811\n",
      "privately : 2.504077396776274\n",
      "produced : 2.504077396776274\n",
      "public : 2.504077396776274\n",
      "raise : 2.504077396776274\n",
      "rather : 2.504077396776274\n",
      "responsibility : 2.504077396776274\n",
      "risked : 2.504077396776274\n",
      "safeguard : 2.504077396776274\n",
      "saying : 2.504077396776274\n",
      "second : 2.504077396776274\n",
      "seen : 2.504077396776274\n",
      "sending : 2.504077396776274\n",
      "show : 2.09861228866811\n",
      "sidelining : 2.504077396776274\n",
      "social : 2.504077396776274\n",
      "squad : 1.8109302162163288\n",
      "strong : 2.504077396776274\n",
      "such : 2.504077396776274\n",
      "taken : 2.504077396776274\n",
      "telling : 2.504077396776274\n",
      "test : 2.504077396776274\n",
      "than : 2.504077396776274\n",
      "that : 2.504077396776274\n",
      "the : 1.251314428280906\n",
      "them : 2.504077396776274\n",
      "they : 2.09861228866811\n",
      "third : 2.504077396776274\n",
      "to : 1.4054651081081644\n",
      "took : 2.504077396776274\n",
      "twitter : 2.504077396776274\n",
      "undermining : 2.504077396776274\n",
      "understood : 2.504077396776274\n",
      "with : 2.504077396776274\n",
      "zaman : 2.504077396776274\n"
     ]
    }
   ],
   "source": [
    "#let's print the idf of each word:\n",
    "\n",
    "all_feature_names = v.get_feature_names_out()\n",
    "\n",
    "for word in all_feature_names:\n",
    "    \n",
    "    #let's get the index in the vocabulary\n",
    "    indx = v.vocabulary_.get(word)\n",
    "    \n",
    "    #get the score\n",
    "    idf_score = v.idf_[indx]\n",
    "    \n",
    "    print(f\"{word} : {idf_score}\")"
   ]
  },
  {
   "cell_type": "code",
   "execution_count": 19,
   "id": "c8a28270",
   "metadata": {},
   "outputs": [
    {
     "name": "stdout",
     "output_type": "stream",
     "text": [
      "[[0.         0.         0.         0.         0.         0.\n",
      "  0.         0.         0.         0.         0.28654836 0.24014989\n",
      "  0.         0.         0.         0.         0.         0.\n",
      "  0.         0.         0.         0.         0.         0.\n",
      "  0.         0.         0.         0.         0.         0.\n",
      "  0.         0.         0.         0.28654836 0.         0.28654836\n",
      "  0.         0.28654836 0.         0.         0.         0.18169473\n",
      "  0.         0.         0.24014989 0.         0.         0.20722965\n",
      "  0.         0.         0.         0.         0.20722965 0.\n",
      "  0.         0.         0.         0.         0.         0.\n",
      "  0.         0.         0.         0.         0.         0.\n",
      "  0.         0.18169473 0.18169473 0.         0.         0.\n",
      "  0.         0.         0.         0.         0.         0.\n",
      "  0.         0.         0.         0.         0.28654836 0.\n",
      "  0.         0.         0.         0.20722965 0.         0.\n",
      "  0.         0.         0.         0.         0.         0.2863826\n",
      "  0.         0.         0.         0.         0.         0.\n",
      "  0.         0.         0.28654836 0.28654836]\n",
      " [0.         0.20562889 0.         0.         0.20562889 0.\n",
      "  0.         0.         0.         0.         0.         0.17233306\n",
      "  0.         0.         0.         0.         0.         0.17233306\n",
      "  0.         0.20562889 0.         0.17233306 0.         0.\n",
      "  0.         0.         0.         0.20562889 0.         0.\n",
      "  0.         0.         0.         0.         0.         0.\n",
      "  0.         0.         0.         0.         0.         0.\n",
      "  0.34466612 0.         0.17233306 0.         0.         0.\n",
      "  0.         0.         0.20562889 0.         0.         0.\n",
      "  0.         0.20562889 0.         0.20562889 0.         0.\n",
      "  0.20562889 0.         0.17233306 0.20562889 0.         0.20562889\n",
      "  0.         0.13038527 0.         0.         0.         0.17233306\n",
      "  0.         0.         0.         0.         0.         0.\n",
      "  0.         0.         0.         0.20562889 0.         0.\n",
      "  0.17233306 0.         0.20562889 0.14870929 0.         0.\n",
      "  0.         0.         0.20562889 0.         0.         0.20550994\n",
      "  0.         0.         0.20562889 0.         0.         0.\n",
      "  0.         0.         0.         0.        ]\n",
      " [0.         0.         0.         0.         0.         0.33033719\n",
      "  0.         0.         0.         0.         0.         0.\n",
      "  0.         0.         0.         0.33033719 0.         0.\n",
      "  0.         0.         0.         0.         0.         0.\n",
      "  0.         0.         0.         0.         0.         0.\n",
      "  0.         0.         0.         0.         0.         0.\n",
      "  0.         0.         0.         0.         0.         0.20946038\n",
      "  0.         0.33033719 0.         0.         0.23889741 0.\n",
      "  0.         0.         0.         0.         0.         0.\n",
      "  0.         0.         0.         0.         0.         0.\n",
      "  0.         0.         0.         0.         0.33033719 0.\n",
      "  0.         0.         0.20946038 0.         0.         0.\n",
      "  0.         0.         0.         0.         0.         0.\n",
      "  0.         0.         0.         0.         0.         0.\n",
      "  0.         0.         0.         0.23889741 0.         0.\n",
      "  0.         0.         0.         0.         0.         0.3301461\n",
      "  0.         0.         0.         0.18540857 0.33033719 0.33033719\n",
      "  0.         0.         0.         0.        ]\n",
      " [0.21831167 0.         0.         0.         0.         0.\n",
      "  0.         0.         0.21831167 0.18296222 0.         0.\n",
      "  0.18296222 0.         0.         0.         0.21831167 0.18296222\n",
      "  0.         0.         0.         0.         0.         0.\n",
      "  0.         0.21831167 0.         0.         0.21831167 0.21831167\n",
      "  0.21831167 0.         0.         0.         0.         0.\n",
      "  0.         0.         0.         0.21831167 0.         0.\n",
      "  0.         0.         0.         0.         0.         0.15788138\n",
      "  0.         0.18296222 0.         0.         0.         0.\n",
      "  0.         0.         0.         0.         0.21831167 0.21831167\n",
      "  0.         0.         0.         0.         0.         0.\n",
      "  0.         0.13842717 0.         0.         0.         0.\n",
      "  0.         0.21831167 0.         0.         0.         0.\n",
      "  0.21831167 0.         0.21831167 0.         0.         0.21831167\n",
      "  0.         0.21831167 0.         0.         0.         0.\n",
      "  0.         0.         0.         0.         0.         0.32727807\n",
      "  0.         0.         0.         0.         0.         0.\n",
      "  0.         0.         0.         0.        ]\n",
      " [0.         0.         0.         0.         0.         0.\n",
      "  0.         0.         0.         0.         0.         0.\n",
      "  0.         0.         0.         0.         0.         0.\n",
      "  0.         0.         0.32159215 0.         0.         0.\n",
      "  0.         0.         0.         0.         0.         0.\n",
      "  0.         0.         0.         0.         0.         0.\n",
      "  0.         0.         0.         0.         0.         0.\n",
      "  0.         0.         0.         0.         0.         0.\n",
      "  0.         0.26951932 0.         0.         0.         0.\n",
      "  0.         0.         0.         0.         0.         0.\n",
      "  0.         0.         0.         0.         0.         0.\n",
      "  0.32159215 0.         0.20391531 0.         0.32159215 0.\n",
      "  0.         0.         0.         0.         0.32159215 0.\n",
      "  0.         0.32159215 0.         0.         0.         0.\n",
      "  0.         0.         0.         0.         0.         0.\n",
      "  0.         0.         0.         0.32159215 0.         0.16070306\n",
      "  0.32159215 0.         0.         0.18050023 0.         0.\n",
      "  0.32159215 0.         0.         0.        ]\n",
      " [0.         0.         0.         0.         0.         0.\n",
      "  0.         0.         0.         0.         0.         0.\n",
      "  0.17909537 0.         0.21369772 0.         0.         0.\n",
      "  0.21369772 0.         0.         0.17909537 0.         0.\n",
      "  0.         0.         0.         0.         0.         0.\n",
      "  0.         0.         0.         0.         0.21369772 0.\n",
      "  0.         0.         0.21369772 0.         0.21369772 0.\n",
      "  0.17909537 0.         0.         0.21369772 0.15454461 0.15454461\n",
      "  0.         0.         0.         0.         0.15454461 0.21369772\n",
      "  0.21369772 0.         0.         0.         0.         0.\n",
      "  0.         0.         0.17909537 0.         0.         0.\n",
      "  0.         0.13550156 0.13550156 0.         0.         0.17909537\n",
      "  0.         0.         0.         0.         0.         0.\n",
      "  0.         0.         0.         0.         0.         0.\n",
      "  0.17909537 0.         0.         0.         0.21369772 0.\n",
      "  0.21369772 0.21369772 0.         0.         0.         0.42714821\n",
      "  0.         0.         0.         0.11994226 0.         0.\n",
      "  0.         0.         0.         0.        ]\n",
      " [0.         0.         0.23655657 0.23655657 0.         0.\n",
      "  0.         0.         0.         0.19825287 0.         0.\n",
      "  0.         0.         0.         0.         0.         0.\n",
      "  0.         0.         0.         0.         0.23655657 0.23655657\n",
      "  0.         0.         0.23655657 0.         0.         0.\n",
      "  0.         0.         0.         0.         0.         0.\n",
      "  0.23655657 0.         0.         0.         0.         0.14999591\n",
      "  0.         0.         0.         0.         0.17107596 0.\n",
      "  0.23655657 0.         0.         0.23655657 0.17107596 0.\n",
      "  0.         0.         0.23655657 0.         0.         0.\n",
      "  0.         0.19825287 0.         0.         0.         0.\n",
      "  0.         0.         0.         0.23655657 0.         0.\n",
      "  0.         0.         0.23655657 0.         0.         0.23655657\n",
      "  0.         0.         0.         0.         0.         0.\n",
      "  0.         0.         0.         0.         0.         0.23655657\n",
      "  0.         0.         0.         0.         0.23655657 0.\n",
      "  0.         0.19825287 0.         0.13277226 0.         0.\n",
      "  0.         0.         0.         0.        ]\n",
      " [0.         0.         0.         0.         0.         0.\n",
      "  0.29985537 0.29985537 0.         0.         0.         0.\n",
      "  0.         0.29985537 0.         0.         0.         0.\n",
      "  0.         0.         0.         0.         0.         0.\n",
      "  0.29985537 0.         0.         0.         0.         0.\n",
      "  0.         0.29985537 0.29985537 0.         0.         0.\n",
      "  0.         0.         0.         0.         0.         0.19013244\n",
      "  0.         0.         0.         0.         0.         0.\n",
      "  0.         0.         0.         0.         0.         0.\n",
      "  0.         0.         0.         0.         0.         0.\n",
      "  0.         0.2513022  0.         0.         0.         0.\n",
      "  0.         0.         0.         0.         0.         0.\n",
      "  0.29985537 0.         0.         0.29985537 0.         0.\n",
      "  0.         0.         0.         0.         0.         0.\n",
      "  0.         0.         0.         0.         0.         0.\n",
      "  0.         0.         0.         0.         0.         0.\n",
      "  0.         0.2513022  0.         0.16830001 0.         0.\n",
      "  0.         0.29985537 0.         0.        ]]\n"
     ]
    }
   ],
   "source": [
    "#let's print the transformed output from tf-idf\n",
    "print(transform_output.toarray())"
   ]
  },
  {
   "cell_type": "code",
   "execution_count": 20,
   "id": "e71e1e69",
   "metadata": {},
   "outputs": [
    {
     "data": {
      "text/plain": [
       "['Babar Azam dropping from the Pakistan squad has seen Fakhar Zaman entangled in a dispute with the PCB',\n",
       " \"the cricket board issuing him a show-cause notice for a social media post. After news of Babar's omission from Pakistan's squad for the second and third Test broke\"]"
      ]
     },
     "execution_count": 20,
     "metadata": {},
     "output_type": "execute_result"
    }
   ],
   "source": [
    "corpus[:2]"
   ]
  },
  {
   "cell_type": "code",
   "execution_count": 21,
   "id": "af17679b",
   "metadata": {},
   "outputs": [
    {
     "data": {
      "text/plain": [
       "array([[0.        , 0.        , 0.        , 0.        , 0.        ,\n",
       "        0.        , 0.        , 0.        , 0.        , 0.        ,\n",
       "        0.28654836, 0.24014989, 0.        , 0.        , 0.        ,\n",
       "        0.        , 0.        , 0.        , 0.        , 0.        ,\n",
       "        0.        , 0.        , 0.        , 0.        , 0.        ,\n",
       "        0.        , 0.        , 0.        , 0.        , 0.        ,\n",
       "        0.        , 0.        , 0.        , 0.28654836, 0.        ,\n",
       "        0.28654836, 0.        , 0.28654836, 0.        , 0.        ,\n",
       "        0.        , 0.18169473, 0.        , 0.        , 0.24014989,\n",
       "        0.        , 0.        , 0.20722965, 0.        , 0.        ,\n",
       "        0.        , 0.        , 0.20722965, 0.        , 0.        ,\n",
       "        0.        , 0.        , 0.        , 0.        , 0.        ,\n",
       "        0.        , 0.        , 0.        , 0.        , 0.        ,\n",
       "        0.        , 0.        , 0.18169473, 0.18169473, 0.        ,\n",
       "        0.        , 0.        , 0.        , 0.        , 0.        ,\n",
       "        0.        , 0.        , 0.        , 0.        , 0.        ,\n",
       "        0.        , 0.        , 0.28654836, 0.        , 0.        ,\n",
       "        0.        , 0.        , 0.20722965, 0.        , 0.        ,\n",
       "        0.        , 0.        , 0.        , 0.        , 0.        ,\n",
       "        0.2863826 , 0.        , 0.        , 0.        , 0.        ,\n",
       "        0.        , 0.        , 0.        , 0.        , 0.28654836,\n",
       "        0.28654836],\n",
       "       [0.        , 0.20562889, 0.        , 0.        , 0.20562889,\n",
       "        0.        , 0.        , 0.        , 0.        , 0.        ,\n",
       "        0.        , 0.17233306, 0.        , 0.        , 0.        ,\n",
       "        0.        , 0.        , 0.17233306, 0.        , 0.20562889,\n",
       "        0.        , 0.17233306, 0.        , 0.        , 0.        ,\n",
       "        0.        , 0.        , 0.20562889, 0.        , 0.        ,\n",
       "        0.        , 0.        , 0.        , 0.        , 0.        ,\n",
       "        0.        , 0.        , 0.        , 0.        , 0.        ,\n",
       "        0.        , 0.        , 0.34466612, 0.        , 0.17233306,\n",
       "        0.        , 0.        , 0.        , 0.        , 0.        ,\n",
       "        0.20562889, 0.        , 0.        , 0.        , 0.        ,\n",
       "        0.20562889, 0.        , 0.20562889, 0.        , 0.        ,\n",
       "        0.20562889, 0.        , 0.17233306, 0.20562889, 0.        ,\n",
       "        0.20562889, 0.        , 0.13038527, 0.        , 0.        ,\n",
       "        0.        , 0.17233306, 0.        , 0.        , 0.        ,\n",
       "        0.        , 0.        , 0.        , 0.        , 0.        ,\n",
       "        0.        , 0.20562889, 0.        , 0.        , 0.17233306,\n",
       "        0.        , 0.20562889, 0.14870929, 0.        , 0.        ,\n",
       "        0.        , 0.        , 0.20562889, 0.        , 0.        ,\n",
       "        0.20550994, 0.        , 0.        , 0.20562889, 0.        ,\n",
       "        0.        , 0.        , 0.        , 0.        , 0.        ,\n",
       "        0.        ]])"
      ]
     },
     "execution_count": 21,
     "metadata": {},
     "output_type": "execute_result"
    }
   ],
   "source": [
    "transform_output.toarray()[:2]"
   ]
  },
  {
   "cell_type": "code",
   "execution_count": null,
   "id": "20c1acdc",
   "metadata": {},
   "outputs": [],
   "source": []
  },
  {
   "cell_type": "code",
   "execution_count": null,
   "id": "89f233a9",
   "metadata": {},
   "outputs": [],
   "source": []
  },
  {
   "cell_type": "code",
   "execution_count": null,
   "id": "7b28462d",
   "metadata": {},
   "outputs": [],
   "source": []
  },
  {
   "cell_type": "markdown",
   "id": "ded49a5e",
   "metadata": {},
   "source": [
    "# Problem Statement: Given a description about a product sold on e-commerce website, classify it in one of the 4 categories\n",
    "Dataset Credits: https://www.kaggle.com/datasets/saurabhshahane/ecommerce-text-classification\n",
    "\n",
    "This data consists of two columns.\n"
   ]
  },
  {
   "cell_type": "code",
   "execution_count": 57,
   "id": "878e35ec",
   "metadata": {},
   "outputs": [
    {
     "name": "stdout",
     "output_type": "stream",
     "text": [
      "(50425, 2)\n"
     ]
    },
    {
     "data": {
      "text/html": [
       "<div>\n",
       "<style scoped>\n",
       "    .dataframe tbody tr th:only-of-type {\n",
       "        vertical-align: middle;\n",
       "    }\n",
       "\n",
       "    .dataframe tbody tr th {\n",
       "        vertical-align: top;\n",
       "    }\n",
       "\n",
       "    .dataframe thead th {\n",
       "        text-align: right;\n",
       "    }\n",
       "</style>\n",
       "<table border=\"1\" class=\"dataframe\">\n",
       "  <thead>\n",
       "    <tr style=\"text-align: right;\">\n",
       "      <th></th>\n",
       "      <th>Lable</th>\n",
       "      <th>Text</th>\n",
       "    </tr>\n",
       "  </thead>\n",
       "  <tbody>\n",
       "    <tr>\n",
       "      <th>0</th>\n",
       "      <td>Household</td>\n",
       "      <td>Paper Plane Design Framed Wall Hanging Motivat...</td>\n",
       "    </tr>\n",
       "    <tr>\n",
       "      <th>1</th>\n",
       "      <td>Household</td>\n",
       "      <td>SAF 'Floral' Framed Painting (Wood, 30 inch x ...</td>\n",
       "    </tr>\n",
       "    <tr>\n",
       "      <th>2</th>\n",
       "      <td>Household</td>\n",
       "      <td>SAF 'UV Textured Modern Art Print Framed' Pain...</td>\n",
       "    </tr>\n",
       "    <tr>\n",
       "      <th>3</th>\n",
       "      <td>Household</td>\n",
       "      <td>SAF Flower Print Framed Painting (Synthetic, 1...</td>\n",
       "    </tr>\n",
       "    <tr>\n",
       "      <th>4</th>\n",
       "      <td>Household</td>\n",
       "      <td>Incredible Gifts India Wooden Happy Birthday U...</td>\n",
       "    </tr>\n",
       "  </tbody>\n",
       "</table>\n",
       "</div>"
      ],
      "text/plain": [
       "       Lable                                               Text\n",
       "0  Household  Paper Plane Design Framed Wall Hanging Motivat...\n",
       "1  Household  SAF 'Floral' Framed Painting (Wood, 30 inch x ...\n",
       "2  Household  SAF 'UV Textured Modern Art Print Framed' Pain...\n",
       "3  Household  SAF Flower Print Framed Painting (Synthetic, 1...\n",
       "4  Household  Incredible Gifts India Wooden Happy Birthday U..."
      ]
     },
     "execution_count": 57,
     "metadata": {},
     "output_type": "execute_result"
    }
   ],
   "source": [
    "import pandas as pd\n",
    "import numpy as np\n",
    "\n",
    "#read the data into a pandas dataframe\n",
    "df = pd.read_csv(\"Ecommerce_data.csv\")\n",
    "print(df.shape)\n",
    "df.head()"
   ]
  },
  {
   "cell_type": "code",
   "execution_count": 58,
   "id": "0f1b8b91",
   "metadata": {},
   "outputs": [
    {
     "name": "stdout",
     "output_type": "stream",
     "text": [
      "['Lable', 'Text']\n"
     ]
    }
   ],
   "source": [
    "# printing all columns of the dataframe \n",
    "print(df.columns.tolist()) "
   ]
  },
  {
   "cell_type": "code",
   "execution_count": 59,
   "id": "1ffba804",
   "metadata": {},
   "outputs": [
    {
     "data": {
      "text/plain": [
       "Household                 19313\n",
       "Books                     11820\n",
       "Electronics               10621\n",
       "Clothing & Accessories     8671\n",
       "Name: Lable, dtype: int64"
      ]
     },
     "execution_count": 59,
     "metadata": {},
     "output_type": "execute_result"
    }
   ],
   "source": [
    "#check the distribution of labels \n",
    "df['Lable'].value_counts()"
   ]
  },
  {
   "cell_type": "code",
   "execution_count": 60,
   "id": "3124bd09",
   "metadata": {},
   "outputs": [
    {
     "data": {
      "text/html": [
       "<div>\n",
       "<style scoped>\n",
       "    .dataframe tbody tr th:only-of-type {\n",
       "        vertical-align: middle;\n",
       "    }\n",
       "\n",
       "    .dataframe tbody tr th {\n",
       "        vertical-align: top;\n",
       "    }\n",
       "\n",
       "    .dataframe thead th {\n",
       "        text-align: right;\n",
       "    }\n",
       "</style>\n",
       "<table border=\"1\" class=\"dataframe\">\n",
       "  <thead>\n",
       "    <tr style=\"text-align: right;\">\n",
       "      <th></th>\n",
       "      <th>Lable</th>\n",
       "      <th>Text</th>\n",
       "      <th>label_num</th>\n",
       "    </tr>\n",
       "  </thead>\n",
       "  <tbody>\n",
       "    <tr>\n",
       "      <th>0</th>\n",
       "      <td>Household</td>\n",
       "      <td>Paper Plane Design Framed Wall Hanging Motivat...</td>\n",
       "      <td>0</td>\n",
       "    </tr>\n",
       "    <tr>\n",
       "      <th>1</th>\n",
       "      <td>Household</td>\n",
       "      <td>SAF 'Floral' Framed Painting (Wood, 30 inch x ...</td>\n",
       "      <td>0</td>\n",
       "    </tr>\n",
       "    <tr>\n",
       "      <th>2</th>\n",
       "      <td>Household</td>\n",
       "      <td>SAF 'UV Textured Modern Art Print Framed' Pain...</td>\n",
       "      <td>0</td>\n",
       "    </tr>\n",
       "    <tr>\n",
       "      <th>3</th>\n",
       "      <td>Household</td>\n",
       "      <td>SAF Flower Print Framed Painting (Synthetic, 1...</td>\n",
       "      <td>0</td>\n",
       "    </tr>\n",
       "    <tr>\n",
       "      <th>4</th>\n",
       "      <td>Household</td>\n",
       "      <td>Incredible Gifts India Wooden Happy Birthday U...</td>\n",
       "      <td>0</td>\n",
       "    </tr>\n",
       "  </tbody>\n",
       "</table>\n",
       "</div>"
      ],
      "text/plain": [
       "       Lable                                               Text  label_num\n",
       "0  Household  Paper Plane Design Framed Wall Hanging Motivat...          0\n",
       "1  Household  SAF 'Floral' Framed Painting (Wood, 30 inch x ...          0\n",
       "2  Household  SAF 'UV Textured Modern Art Print Framed' Pain...          0\n",
       "3  Household  SAF Flower Print Framed Painting (Synthetic, 1...          0\n",
       "4  Household  Incredible Gifts India Wooden Happy Birthday U...          0"
      ]
     },
     "execution_count": 60,
     "metadata": {},
     "output_type": "execute_result"
    }
   ],
   "source": [
    "#Add the new column which gives a unique number to each of these labels \n",
    "\n",
    "df['label_num'] = df['Lable'].map({\n",
    "    'Household' : 0, \n",
    "    'Books': 1, \n",
    "    'Electronics': 2, \n",
    "    'Clothing & Accessories': 3\n",
    "})\n",
    "\n",
    "#checking the results \n",
    "df.head(5)"
   ]
  },
  {
   "cell_type": "code",
   "execution_count": 61,
   "id": "8d5e6943",
   "metadata": {},
   "outputs": [],
   "source": [
    "X=df['Text']\n",
    "y=df['label_num']"
   ]
  },
  {
   "cell_type": "markdown",
   "id": "094736d9",
   "metadata": {},
   "source": [
    "# Train test split\n",
    "Build a model with original text (no pre processing)"
   ]
  },
  {
   "cell_type": "code",
   "execution_count": 62,
   "id": "c314209e",
   "metadata": {},
   "outputs": [],
   "source": [
    "from sklearn.model_selection import train_test_split\n",
    "\n",
    "X_train, X_test, y_train, y_test = train_test_split(\n",
    "   X, \n",
    "   y, \n",
    "    test_size=0.2, # 20% samples will go to test dataset\n",
    "    random_state=2022,\n",
    "    stratify=df.label_num\n",
    ")"
   ]
  },
  {
   "cell_type": "code",
   "execution_count": 63,
   "id": "b22855da",
   "metadata": {},
   "outputs": [
    {
     "name": "stdout",
     "output_type": "stream",
     "text": [
      "Shape of X_train:  (40340,)\n",
      "Shape of X_test:  (10085,)\n"
     ]
    }
   ],
   "source": [
    "print(\"Shape of X_train: \", X_train.shape)\n",
    "print(\"Shape of X_test: \", X_test.shape)"
   ]
  },
  {
   "cell_type": "code",
   "execution_count": 64,
   "id": "5bc79b50",
   "metadata": {},
   "outputs": [
    {
     "data": {
      "text/plain": [
       "34692    Status Quo Men's Synthetic Jacket Status Quo j...\n",
       "12959    Inalsa Professional 2-Litre Deep Fryer (Black/...\n",
       "20996    The Loney Review Winner of the Costa First Nov...\n",
       "9828     Treo By Milton Cube Jar 310Ml, Set Of 6 Glassw...\n",
       "28795    Foundations of Periodontics for the Dental Hyg...\n",
       "Name: Text, dtype: object"
      ]
     },
     "execution_count": 64,
     "metadata": {},
     "output_type": "execute_result"
    }
   ],
   "source": [
    "X_train.head()"
   ]
  },
  {
   "cell_type": "code",
   "execution_count": 65,
   "id": "f7678121",
   "metadata": {},
   "outputs": [
    {
     "data": {
      "text/plain": [
       "0    15450\n",
       "1     9456\n",
       "2     8497\n",
       "3     6937\n",
       "Name: label_num, dtype: int64"
      ]
     },
     "execution_count": 65,
     "metadata": {},
     "output_type": "execute_result"
    }
   ],
   "source": [
    "y_train.value_counts()"
   ]
  },
  {
   "cell_type": "code",
   "execution_count": 66,
   "id": "79c4e5ed",
   "metadata": {},
   "outputs": [
    {
     "data": {
      "text/plain": [
       "0    3863\n",
       "1    2364\n",
       "2    2124\n",
       "3    1734\n",
       "Name: label_num, dtype: int64"
      ]
     },
     "execution_count": 66,
     "metadata": {},
     "output_type": "execute_result"
    }
   ],
   "source": [
    "y_test.value_counts()"
   ]
  },
  {
   "cell_type": "markdown",
   "id": "d3d344f2",
   "metadata": {},
   "source": [
    "# ML Algorithm 1-KNN :\n",
    "\n",
    "using sklearn pipeline module create a classification pipeline to classify the Ecommerce Data.\n",
    "Note:\n",
    "\n",
    "use TF-IDF for pre-processing the text.\n",
    "\n",
    "use KNN as the classifier\n",
    "\n",
    "print the classification report."
   ]
  },
  {
   "cell_type": "code",
   "execution_count": 72,
   "id": "f82ed94d",
   "metadata": {},
   "outputs": [
    {
     "name": "stderr",
     "output_type": "stream",
     "text": [
      "C:\\Users\\lenovo\\anaconda3\\lib\\site-packages\\sklearn\\neighbors\\_classification.py:228: FutureWarning: Unlike other reduction functions (e.g. `skew`, `kurtosis`), the default behavior of `mode` typically preserves the axis it acts along. In SciPy 1.11.0, this behavior will change: the default value of `keepdims` will become False, the `axis` over which the statistic is taken will be eliminated, and the value None will no longer be accepted. Set `keepdims` to True or False to avoid this warning.\n",
      "  mode, _ = stats.mode(_y[neigh_ind, k], axis=1)\n"
     ]
    },
    {
     "name": "stdout",
     "output_type": "stream",
     "text": [
      "              precision    recall  f1-score   support\n",
      "\n",
      "           0       0.99      0.59      0.74      3863\n",
      "           1       0.43      0.99      0.60      2364\n",
      "           2       0.98      0.53      0.69      2124\n",
      "           3       1.00      0.69      0.82      1734\n",
      "\n",
      "    accuracy                           0.69     10085\n",
      "   macro avg       0.85      0.70      0.71     10085\n",
      "weighted avg       0.86      0.69      0.71     10085\n",
      "\n"
     ]
    }
   ],
   "source": [
    "import pandas as pd\n",
    "from sklearn.neighbors import KNeighborsClassifier\n",
    "from sklearn.pipeline import Pipeline\n",
    "from sklearn.feature_extraction.text import TfidfVectorizer\n",
    "from sklearn.metrics import classification_report\n",
    "\n",
    "# Assuming X_train, y_train, X_test, and y_test are already defined\n",
    "\n",
    "# Convert to DataFrame if they are not already (optional, for easier NaN handling)\n",
    "X_train = pd.Series(X_train)\n",
    "X_test = pd.Series(X_test)\n",
    "\n",
    "# Check for NaN values and handle them\n",
    "if X_train.isnull().any() or X_test.isnull().any():\n",
    "    # You can either fill NaN values or drop them\n",
    "    X_train = X_train.fillna('')  # Fill NaN with empty string\n",
    "    X_test = X_test.fillna('')     # Fill NaN with empty string\n",
    "    # Alternatively, you could drop NaN values:\n",
    "    # X_train = X_train.dropna()\n",
    "    # X_test = X_test.dropna()\n",
    "\n",
    "# 1. create a pipeline object\n",
    "clf = Pipeline([\n",
    "    ('vectorizer_tfidf', TfidfVectorizer()),    \n",
    "    ('KNN', KNeighborsClassifier())         \n",
    "])\n",
    "\n",
    "# 2. fit with X_train and y_train\n",
    "clf.fit(X_train, y_train)\n",
    "\n",
    "# 3. get the predictions for X_test and store it in y_pred\n",
    "y_pred = clf.predict(X_test)\n",
    "\n",
    "# 4. print the classification report\n",
    "print(classification_report(y_test, y_pred))\n",
    "\n"
   ]
  },
  {
   "cell_type": "code",
   "execution_count": 73,
   "id": "bbc0eefc",
   "metadata": {},
   "outputs": [
    {
     "data": {
      "text/plain": [
       "41536    Seagate 4TB Backup Plus Hub USB 3.0 Desktop 3....\n",
       "9671     Sunflame GT Pride 2 Burner Gas Stove, Black St...\n",
       "49630    iVoltaa Next Gen Compact Wired Selfie Stick fo...\n",
       "33658    TWO DOTS Air Bra for Girls and Women Combo of ...\n",
       "19317    The Secret of Secrets: The Secrets of the Gold...\n",
       "Name: Text, dtype: object"
      ]
     },
     "execution_count": 73,
     "metadata": {},
     "output_type": "execute_result"
    }
   ],
   "source": [
    "X_test[:5]"
   ]
  },
  {
   "cell_type": "code",
   "execution_count": 74,
   "id": "7355dd72",
   "metadata": {},
   "outputs": [
    {
     "data": {
      "text/plain": [
       "41536    2\n",
       "9671     0\n",
       "49630    2\n",
       "33658    3\n",
       "19317    1\n",
       "Name: label_num, dtype: int64"
      ]
     },
     "execution_count": 74,
     "metadata": {},
     "output_type": "execute_result"
    }
   ],
   "source": [
    "y_test[:5]"
   ]
  },
  {
   "cell_type": "code",
   "execution_count": 75,
   "id": "c1ac8c61",
   "metadata": {},
   "outputs": [
    {
     "data": {
      "text/plain": [
       "array([2, 0, 1, 3, 1], dtype=int64)"
      ]
     },
     "execution_count": 75,
     "metadata": {},
     "output_type": "execute_result"
    }
   ],
   "source": [
    "y_pred[:5]"
   ]
  },
  {
   "cell_type": "markdown",
   "id": "6aa033b1",
   "metadata": {},
   "source": [
    "# ML Algorith 2- MultinomialNB\n",
    "\n",
    "using sklearn pipeline module create a classification pipeline to classify the Ecommerce Data.\n",
    "Note:\n",
    "\n",
    "use TF-IDF for pre-processing the text.\n",
    "\n",
    "use MultinomialNB as the classifier.\n",
    "\n",
    "print the classification report."
   ]
  },
  {
   "cell_type": "code",
   "execution_count": 76,
   "id": "cd81bfa4",
   "metadata": {},
   "outputs": [
    {
     "name": "stdout",
     "output_type": "stream",
     "text": [
      "              precision    recall  f1-score   support\n",
      "\n",
      "           0       0.90      0.98      0.94      3863\n",
      "           1       0.98      0.92      0.95      2364\n",
      "           2       0.97      0.90      0.93      2124\n",
      "           3       0.98      0.93      0.96      1734\n",
      "\n",
      "    accuracy                           0.94     10085\n",
      "   macro avg       0.96      0.93      0.94     10085\n",
      "weighted avg       0.94      0.94      0.94     10085\n",
      "\n"
     ]
    }
   ],
   "source": [
    "from sklearn.naive_bayes import MultinomialNB\n",
    "\n",
    "\n",
    "#1. create a pipeline object\n",
    "clf = Pipeline([\n",
    "     ('vectorizer_tfidf',TfidfVectorizer()),    \n",
    "     ('Multi NB', MultinomialNB())         \n",
    "])\n",
    "\n",
    "#2. fit with X_train and y_train\n",
    "clf.fit(X_train, y_train)\n",
    "\n",
    "\n",
    "#3. get the predictions for X_test and store it in y_pred\n",
    "y_pred = clf.predict(X_test)\n",
    "\n",
    "\n",
    "#4. print the classfication report\n",
    "print(classification_report(y_test, y_pred))"
   ]
  },
  {
   "cell_type": "markdown",
   "id": "0b5b3816",
   "metadata": {},
   "source": [
    "# ML Algorith 3 -Random Forest:\n",
    "\n",
    "using sklearn pipeline module create a classification pipeline to classify the Ecommerce Data.\n",
    "Note:\n",
    "\n",
    "use TF-IDF for pre-processing the text.\n",
    "\n",
    "use Random Forest as the classifier.\n",
    "\n",
    "print the classification report."
   ]
  },
  {
   "cell_type": "code",
   "execution_count": 77,
   "id": "ae4f82ea",
   "metadata": {},
   "outputs": [
    {
     "name": "stdout",
     "output_type": "stream",
     "text": [
      "              precision    recall  f1-score   support\n",
      "\n",
      "           0       0.95      0.98      0.97      3863\n",
      "           1       0.98      0.98      0.98      2364\n",
      "           2       0.98      0.93      0.96      2124\n",
      "           3       0.98      0.97      0.98      1734\n",
      "\n",
      "    accuracy                           0.97     10085\n",
      "   macro avg       0.97      0.97      0.97     10085\n",
      "weighted avg       0.97      0.97      0.97     10085\n",
      "\n"
     ]
    }
   ],
   "source": [
    "from sklearn.ensemble import RandomForestClassifier\n",
    "\n",
    "#1. create a pipeline object\n",
    "clf = Pipeline([\n",
    "     ('vectorizer_tfidf',TfidfVectorizer()),        #using the ngram_range parameter \n",
    "     ('Random Forest', RandomForestClassifier())         \n",
    "])\n",
    "\n",
    "#2. fit with X_train and y_train\n",
    "clf.fit(X_train, y_train)\n",
    "\n",
    "\n",
    "#3. get the predictions for X_test and store it in y_pred\n",
    "y_pred = clf.predict(X_test)\n",
    "\n",
    "\n",
    "#4. print the classfication report\n",
    "print(classification_report(y_test, y_pred))"
   ]
  },
  {
   "cell_type": "code",
   "execution_count": null,
   "id": "cf38162f",
   "metadata": {},
   "outputs": [],
   "source": []
  },
  {
   "cell_type": "markdown",
   "id": "f6b60af9",
   "metadata": {},
   "source": [
    "#Use text pre-processing to remove stop words, punctuations and apply lemmatization"
   ]
  },
  {
   "cell_type": "code",
   "execution_count": 79,
   "id": "5c885883",
   "metadata": {},
   "outputs": [],
   "source": [
    "### utlity function for pre-processing the text\n",
    "import spacy\n",
    "\n",
    "# load english language model and create nlp object from it\n",
    "nlp = spacy.load(\"en_core_web_sm\") \n",
    "\n",
    "def preprocess(text):\n",
    "    # remove stop words and lemmatize the text\n",
    "    doc = nlp(text)\n",
    "    filtered_tokens = []\n",
    "    for token in doc:\n",
    "        if token.is_stop or token.is_punct:\n",
    "            continue\n",
    "        filtered_tokens.append(token.lemma_)\n",
    "    \n",
    "    return \" \".join(filtered_tokens) "
   ]
  },
  {
   "cell_type": "code",
   "execution_count": 82,
   "id": "be2f8df5",
   "metadata": {},
   "outputs": [],
   "source": [
    "import spacy\n",
    "\n",
    "# Load English language model and create nlp object from it\n",
    "nlp = spacy.load(\"en_core_web_sm\") \n",
    "\n",
    "def preprocess(text):\n",
    "    # Check if the input is a valid string\n",
    "    if not isinstance(text, str):\n",
    "        return ''  # Return an empty string for non-string inputs (including NaN)\n",
    "    \n",
    "    # Process the text with SpaCy\n",
    "    doc = nlp(text)\n",
    "    filtered_tokens = []\n",
    "    \n",
    "    # Remove stop words and lemmatize the text\n",
    "    for token in doc:\n",
    "        if not token.is_stop and not token.is_punct:\n",
    "            filtered_tokens.append(token.lemma_)\n",
    "    \n",
    "    return \" \".join(filtered_tokens)\n"
   ]
  },
  {
   "cell_type": "code",
   "execution_count": 87,
   "id": "381f81c0",
   "metadata": {},
   "outputs": [],
   "source": [
    "df['preprocessed_txt'] = df['Text'].apply(preprocess) "
   ]
  },
  {
   "cell_type": "code",
   "execution_count": 88,
   "id": "8aa47541",
   "metadata": {},
   "outputs": [
    {
     "data": {
      "text/html": [
       "<div>\n",
       "<style scoped>\n",
       "    .dataframe tbody tr th:only-of-type {\n",
       "        vertical-align: middle;\n",
       "    }\n",
       "\n",
       "    .dataframe tbody tr th {\n",
       "        vertical-align: top;\n",
       "    }\n",
       "\n",
       "    .dataframe thead th {\n",
       "        text-align: right;\n",
       "    }\n",
       "</style>\n",
       "<table border=\"1\" class=\"dataframe\">\n",
       "  <thead>\n",
       "    <tr style=\"text-align: right;\">\n",
       "      <th></th>\n",
       "      <th>Lable</th>\n",
       "      <th>Text</th>\n",
       "      <th>label_num</th>\n",
       "      <th>preprocessed_txt</th>\n",
       "    </tr>\n",
       "  </thead>\n",
       "  <tbody>\n",
       "    <tr>\n",
       "      <th>0</th>\n",
       "      <td>Household</td>\n",
       "      <td>Paper Plane Design Framed Wall Hanging Motivat...</td>\n",
       "      <td>0</td>\n",
       "      <td>Paper Plane Design Framed Wall Hanging Motivat...</td>\n",
       "    </tr>\n",
       "    <tr>\n",
       "      <th>1</th>\n",
       "      <td>Household</td>\n",
       "      <td>SAF 'Floral' Framed Painting (Wood, 30 inch x ...</td>\n",
       "      <td>0</td>\n",
       "      <td>SAF Floral Framed Painting Wood 30 inch x 10 i...</td>\n",
       "    </tr>\n",
       "    <tr>\n",
       "      <th>2</th>\n",
       "      <td>Household</td>\n",
       "      <td>SAF 'UV Textured Modern Art Print Framed' Pain...</td>\n",
       "      <td>0</td>\n",
       "      <td>saf uv texture Modern Art Print Framed Paintin...</td>\n",
       "    </tr>\n",
       "    <tr>\n",
       "      <th>3</th>\n",
       "      <td>Household</td>\n",
       "      <td>SAF Flower Print Framed Painting (Synthetic, 1...</td>\n",
       "      <td>0</td>\n",
       "      <td>SAF Flower Print Framed Painting Synthetic 13....</td>\n",
       "    </tr>\n",
       "    <tr>\n",
       "      <th>4</th>\n",
       "      <td>Household</td>\n",
       "      <td>Incredible Gifts India Wooden Happy Birthday U...</td>\n",
       "      <td>0</td>\n",
       "      <td>incredible Gifts India Wooden Happy Birthday U...</td>\n",
       "    </tr>\n",
       "  </tbody>\n",
       "</table>\n",
       "</div>"
      ],
      "text/plain": [
       "       Lable                                               Text  label_num  \\\n",
       "0  Household  Paper Plane Design Framed Wall Hanging Motivat...          0   \n",
       "1  Household  SAF 'Floral' Framed Painting (Wood, 30 inch x ...          0   \n",
       "2  Household  SAF 'UV Textured Modern Art Print Framed' Pain...          0   \n",
       "3  Household  SAF Flower Print Framed Painting (Synthetic, 1...          0   \n",
       "4  Household  Incredible Gifts India Wooden Happy Birthday U...          0   \n",
       "\n",
       "                                    preprocessed_txt  \n",
       "0  Paper Plane Design Framed Wall Hanging Motivat...  \n",
       "1  SAF Floral Framed Painting Wood 30 inch x 10 i...  \n",
       "2  saf uv texture Modern Art Print Framed Paintin...  \n",
       "3  SAF Flower Print Framed Painting Synthetic 13....  \n",
       "4  incredible Gifts India Wooden Happy Birthday U...  "
      ]
     },
     "execution_count": 88,
     "metadata": {},
     "output_type": "execute_result"
    }
   ],
   "source": [
    "df.head()"
   ]
  },
  {
   "cell_type": "code",
   "execution_count": 91,
   "id": "c2600db3",
   "metadata": {},
   "outputs": [
    {
     "data": {
      "text/plain": [
       "'Paper Plane Design Framed Wall Hanging Motivational Office Decor Art Prints (8.7 X 8.7 inch) - Set of 4 Painting made up in synthetic frame with uv textured print which gives multi effects and attracts towards it. This is an special series of paintings which makes your wall very beautiful and gives a royal touch. This painting is ready to hang, you would be proud to possess this unique painting that is a niche apart. We use only the most modern and efficient printing technology on our prints, with only the and inks and precision epson, roland and hp printers. This innovative hd printing technique results in durable and spectacular looking prints of the highest that last a lifetime. We print solely with top-notch 100% inks, to achieve brilliant and true colours. Due to their high level of uv resistance, our prints retain their beautiful colours for many years. Add colour and style to your living space with this digitally printed painting. Some are for pleasure and some for eternal bliss.so bring home this elegant print that is lushed with rich colors that makes it nothing but sheer elegance to be to your friends and family.it would be treasured forever by whoever your lucky recipient is. Liven up your place with these intriguing paintings that are high definition hd graphic digital prints for home, office or any room.'"
      ]
     },
     "execution_count": 91,
     "metadata": {},
     "output_type": "execute_result"
    }
   ],
   "source": [
    "df.Text[0]"
   ]
  },
  {
   "cell_type": "code",
   "execution_count": 90,
   "id": "eca26e37",
   "metadata": {},
   "outputs": [
    {
     "data": {
      "text/plain": [
       "'Paper Plane Design Framed Wall Hanging Motivational Office Decor Art Prints 8.7 x 8.7 inch set 4 Painting synthetic frame uv texture print give multi effect attract special series painting make wall beautiful give royal touch painting ready hang proud possess unique painting niche apart use modern efficient print technology print ink precision epson roland hp printer innovative hd printing technique result durable spectacular look print high lifetime print solely notch 100 ink achieve brilliant true colour high level uv resistance print retain beautiful colour year add colour style live space digitally print painting pleasure eternal bliss.so bring home elegant print lushe rich color make sheer elegance friend family.it treasure forever lucky recipient liven place intriguing painting high definition hd graphic digital print home office room'"
      ]
     },
     "execution_count": 90,
     "metadata": {},
     "output_type": "execute_result"
    }
   ],
   "source": [
    "df.preprocessed_txt[0]"
   ]
  },
  {
   "cell_type": "markdown",
   "id": "e3316279",
   "metadata": {},
   "source": [
    "# Build a model with pre processed text"
   ]
  },
  {
   "cell_type": "code",
   "execution_count": 93,
   "id": "ae36cbce",
   "metadata": {},
   "outputs": [],
   "source": [
    "X_train, X_test, y_train, y_test = train_test_split(\n",
    "    df.preprocessed_txt, \n",
    "    df.label_num,\n",
    "    test_size=0.2, # 20% samples will go to test dataset\n",
    "    random_state=2022,\n",
    "    stratify=df.label_num\n",
    ")"
   ]
  },
  {
   "cell_type": "markdown",
   "id": "89a82d25",
   "metadata": {},
   "source": [
    "# Let's check the scores with my best model till now"
   ]
  },
  {
   "cell_type": "code",
   "execution_count": 94,
   "id": "2aee5b9a",
   "metadata": {},
   "outputs": [
    {
     "name": "stdout",
     "output_type": "stream",
     "text": [
      "              precision    recall  f1-score   support\n",
      "\n",
      "           0       0.96      0.99      0.97      3863\n",
      "           1       0.98      0.98      0.98      2364\n",
      "           2       0.98      0.95      0.97      2124\n",
      "           3       0.99      0.98      0.98      1734\n",
      "\n",
      "    accuracy                           0.97     10085\n",
      "   macro avg       0.98      0.97      0.98     10085\n",
      "weighted avg       0.98      0.97      0.97     10085\n",
      "\n"
     ]
    }
   ],
   "source": [
    "#1. create a pipeline object\n",
    "clf = Pipeline([\n",
    "     ('vectorizer_tfidf',TfidfVectorizer()),        #using the ngram_range parameter \n",
    "     ('Random Forest', RandomForestClassifier())         \n",
    "])\n",
    "\n",
    "#2. fit with X_train and y_train\n",
    "clf.fit(X_train, y_train)\n",
    "\n",
    "\n",
    "#3. get the predictions for X_test and store it in y_pred\n",
    "y_pred = clf.predict(X_test)\n",
    "\n",
    "\n",
    "#4. print the classfication report\n",
    "print(classification_report(y_test, y_pred))"
   ]
  },
  {
   "cell_type": "markdown",
   "id": "eb2c62eb",
   "metadata": {},
   "source": [
    "# Plot confusion matrix"
   ]
  },
  {
   "cell_type": "code",
   "execution_count": 95,
   "id": "0d4973a0",
   "metadata": {},
   "outputs": [
    {
     "data": {
      "text/plain": [
       "array([[3813,   14,   20,   16],\n",
       "       [  42, 2306,   10,    6],\n",
       "       [  88,   14, 2019,    3],\n",
       "       [  26,    9,    5, 1694]], dtype=int64)"
      ]
     },
     "execution_count": 95,
     "metadata": {},
     "output_type": "execute_result"
    }
   ],
   "source": [
    "from sklearn.metrics import confusion_matrix\n",
    "cm = confusion_matrix(y_test, y_pred)\n",
    "cm"
   ]
  },
  {
   "cell_type": "code",
   "execution_count": 96,
   "id": "7109bdd6",
   "metadata": {},
   "outputs": [
    {
     "data": {
      "text/plain": [
       "Text(95.72222222222221, 0.5, 'Truth')"
      ]
     },
     "execution_count": 96,
     "metadata": {},
     "output_type": "execute_result"
    },
    {
     "data": {
      "image/png": "[encoded data removed]",
      "text/plain": [
       "<Figure size 1000x700 with 2 Axes>"
      ]
     },
     "metadata": {},
     "output_type": "display_data"
    }
   ],
   "source": [
    "from matplotlib import pyplot as plt\n",
    "import seaborn as sn\n",
    "plt.figure(figsize = (10,7))\n",
    "sn.heatmap(cm, annot=True, fmt='d')\n",
    "plt.xlabel('Prediction')\n",
    "plt.ylabel('Truth')"
   ]
  },
  {
   "cell_type": "code",
   "execution_count": null,
   "id": "236ddb1e",
   "metadata": {},
   "outputs": [],
   "source": []
  }
 ],
 "metadata": {
  "kernelspec": {
   "display_name": "Python 3 (ipykernel)",
   "language": "python",
   "name": "python3"
  },
  "language_info": {
   "codemirror_mode": {
    "name": "ipython",
    "version": 3
   },
   "file_extension": ".py",
   "mimetype": "text/x-python",
   "name": "python",
   "nbconvert_exporter": "python",
   "pygments_lexer": "ipython3",
   "version": "3.9.13"
  }
 },
 "nbformat": 4,
 "nbformat_minor": 5
}
